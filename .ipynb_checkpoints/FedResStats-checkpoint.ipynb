{
 "cells": [
  {
   "cell_type": "markdown",
   "metadata": {},
   "source": [
    "# Imports"
   ]
  },
  {
   "cell_type": "code",
   "execution_count": 1,
   "metadata": {},
   "outputs": [
    {
     "name": "stdout",
     "output_type": "stream",
     "text": [
      "True\n"
     ]
    }
   ],
   "source": [
    "#webscraping\n",
    "import requests\n",
    "from bs4 import BeautifulSoup\n",
    "\n",
    "import pandas as pd\n",
    "\n",
    "\n",
    "url = 'https://www.federalreserve.gov/releases/h41/current/h41.htm'\n",
    "get = requests.get(url)\n",
    "bs = BeautifulSoup(get.content, 'html.parser')\n",
    "print(get.ok)"
   ]
  },
  {
   "cell_type": "markdown",
   "metadata": {},
   "source": [
    "# Data"
   ]
  },
  {
   "cell_type": "markdown",
   "metadata": {},
   "source": [
    "## Values"
   ]
  },
  {
   "cell_type": "code",
   "execution_count": 2,
   "metadata": {},
   "outputs": [],
   "source": [
    "#<tr> with <td> have <th> that are the names for the data\n",
    "#data in <td> are in <p>\n",
    "#first table with tr p has date\n",
    "data = bs.select('.H41Release > tr > td > p')"
   ]
  },
  {
   "cell_type": "code",
   "execution_count": 288,
   "metadata": {},
   "outputs": [],
   "source": [
    "count = 0\n",
    "for d in data:\n",
    "    if '1,826,212' in d.text:\n",
    "        break;\n",
    "    count += 1"
   ]
  },
  {
   "cell_type": "code",
   "execution_count": 263,
   "metadata": {},
   "outputs": [],
   "source": [
    "def findstartlocation(string, vals=data):\n",
    "    count = 0\n",
    "    for d in vals:\n",
    "        if string in d.text:\n",
    "            break;\n",
    "        count += 1\n",
    "    return count"
   ]
  },
  {
   "cell_type": "code",
   "execution_count": 289,
   "metadata": {},
   "outputs": [
    {
     "data": {
      "text/plain": [
       "332"
      ]
     },
     "execution_count": 289,
     "metadata": {},
     "output_type": "execute_result"
    }
   ],
   "source": [
    "count"
   ]
  },
  {
   "cell_type": "code",
   "execution_count": 293,
   "metadata": {},
   "outputs": [
    {
     "data": {
      "text/plain": [
       "<p>Guaranteed by Fannie Mae, Freddie Mac, and Ginnie Mae. The current face value shown is the remaining principal balance of the securities.</p>"
      ]
     },
     "execution_count": 293,
     "metadata": {},
     "output_type": "execute_result"
    }
   ],
   "source": [
    "data[337]"
   ]
  },
  {
   "cell_type": "code",
   "execution_count": 265,
   "metadata": {},
   "outputs": [
    {
     "data": {
      "text/plain": [
       "204"
      ]
     },
     "execution_count": 265,
     "metadata": {},
     "output_type": "execute_result"
    }
   ],
   "source": [
    "#133, 188\n",
    "#204 7 * 12\n",
    "count"
   ]
  },
  {
   "cell_type": "code",
   "execution_count": 20,
   "metadata": {},
   "outputs": [],
   "source": [
    "table2vals = data[133:189]\n",
    "table3vals = data[204:236]\n",
    "table4vals = data[240:324]\n",
    "table5vals = data[332:337]\n",
    "#table6vals = data"
   ]
  },
  {
   "cell_type": "code",
   "execution_count": 260,
   "metadata": {},
   "outputs": [
    {
     "data": {
      "text/plain": [
       "188"
      ]
     },
     "execution_count": 260,
     "metadata": {},
     "output_type": "execute_result"
    }
   ],
   "source": [
    "count"
   ]
  },
  {
   "cell_type": "markdown",
   "metadata": {},
   "source": [
    "## Row Names"
   ]
  },
  {
   "cell_type": "code",
   "execution_count": null,
   "metadata": {},
   "outputs": [],
   "source": [
    "#td id names\n",
    "#t2r1\n",
    "#t2r2\n",
    "#t2r3\n",
    "#...\n",
    "#t2r34\n",
    "#t3r1\n",
    "#\n",
    "#headers tXc0\n"
   ]
  },
  {
   "cell_type": "code",
   "execution_count": 5,
   "metadata": {},
   "outputs": [],
   "source": [
    "tablenum = 2\n",
    "table1_headers = bs.findAll('th', {'headers' : 't{}c0'.format(tablenum)})"
   ]
  },
  {
   "cell_type": "code",
   "execution_count": 13,
   "metadata": {},
   "outputs": [],
   "source": [
    "desiredtables = [2, 3, 5, 8, 10, 12, 13, 15, 16, 18]\n",
    "tableHeaders = []\n",
    "for tablenum in desiredtables:\n",
    "    tableHeaders.append(bs.findAll('th', {'headers' : 't{}c0'.format(tablenum)}))"
   ]
  },
  {
   "cell_type": "markdown",
   "metadata": {},
   "source": [
    "## create dict for data"
   ]
  },
  {
   "cell_type": "markdown",
   "metadata": {},
   "source": [
    "## table 1"
   ]
  },
  {
   "cell_type": "code",
   "execution_count": 3,
   "metadata": {},
   "outputs": [
    {
     "data": {
      "text/plain": [
       "list"
      ]
     },
     "execution_count": 3,
     "metadata": {},
     "output_type": "execute_result"
    }
   ],
   "source": [
    "type(data)"
   ]
  },
  {
   "cell_type": "code",
   "execution_count": null,
   "metadata": {},
   "outputs": [],
   "source": [
    "df_table3 = createTable(table3vals, tableHeaders[2])\n"
   ]
  },
  {
   "cell_type": "code",
   "execution_count": 81,
   "metadata": {},
   "outputs": [
    {
     "data": {
      "text/plain": [
       "'Securities held in custody for foreign official and international accounts'"
      ]
     },
     "execution_count": 81,
     "metadata": {},
     "output_type": "execute_result"
    }
   ],
   "source": [
    "tableHeaders[2][0].select('p')[0].text"
   ]
  },
  {
   "cell_type": "code",
   "execution_count": 92,
   "metadata": {},
   "outputs": [
    {
     "data": {
      "text/plain": [
       "['3,391,236', '+\\xa0\\xa0\\xa0\\xa02,828', '-\\xa0\\xa0\\xa072,101', '3,384,052']"
      ]
     },
     "execution_count": 92,
     "metadata": {},
     "output_type": "execute_result"
    }
   ],
   "source": [
    "\n",
    "\n"
   ]
  },
  {
   "cell_type": "code",
   "execution_count": 100,
   "metadata": {},
   "outputs": [],
   "source": [
    "def createTable(data, headers, columns=columnNames):\n",
    "    table = []\n",
    "    table1 = {}\n",
    "    c = 0\n",
    "    for x in headers:\n",
    "        try:\n",
    "            vals = []\n",
    "            for num, col in enumerate(columns):\n",
    "                vals.append(data[c * len(columns) + num ].text.strip())\n",
    "            table1[x.select('p')[0].text] = vals\n",
    "            c += 1\n",
    "        except:\n",
    "            #can't use enumerate since ('p')[0] may be out of index\n",
    "            continue\n",
    "    df = pd.DataFrame(table1).T\n",
    "    df.columns = columns\n",
    "    return df"
   ]
  },
  {
   "cell_type": "code",
   "execution_count": 7,
   "metadata": {},
   "outputs": [],
   "source": [
    "table = []\n",
    "table1 = {}\n",
    "count = 0\n",
    "for x in table1_headers:\n",
    "    try: #index out of range for no p elements in stuffs\n",
    "        table1[x.select('p')[0].text] = [data[count * 4 + 1].text.strip(),\n",
    "                                        data[count * 4 + 2].text.strip(),\n",
    "                                        data[count * 4 + 3].text.strip(),\n",
    "                                        data[count * 4 + 4].text.strip()]\n",
    "        count += 1\n",
    "    except:\n",
    "        #can't use enumerate since ('p')[0] may fail\n",
    "        continue"
   ]
  },
  {
   "cell_type": "code",
   "execution_count": 8,
   "metadata": {},
   "outputs": [],
   "source": [
    "df_table1 = pd.DataFrame(table1).T"
   ]
  },
  {
   "cell_type": "code",
   "execution_count": 9,
   "metadata": {},
   "outputs": [],
   "source": [
    "columnNames = ['Week Ended May 27, 2020',\n",
    "              'Change from May 20, 2020',\n",
    "              'Change from May 29, 2020',\n",
    "              'Wednesday May 27, 2020']"
   ]
  },
  {
   "cell_type": "code",
   "execution_count": 10,
   "metadata": {},
   "outputs": [],
   "source": [
    "df_table1.columns = columnNames"
   ]
  },
  {
   "cell_type": "markdown",
   "metadata": {},
   "source": [
    "## table 2"
   ]
  },
  {
   "cell_type": "code",
   "execution_count": 83,
   "metadata": {},
   "outputs": [],
   "source": [
    "table2 = {}\n",
    "rowNames2 = []\n",
    "count = 0\n",
    "for x in tableHeaders[1]:\n",
    "    try:\n",
    "        table2[x.select('p')[0].text] = [table2vals[count * 4].text.strip(),\n",
    "                                            table2vals[count * 4 + 1].text.strip(),\n",
    "                                            table2vals[count * 4 + 2].text.strip(),\n",
    "                                            table2vals[count * 4 + 3].text.strip()]\n",
    "        count += 1\n",
    "    except:\n",
    "            continue\n",
    "        "
   ]
  },
  {
   "cell_type": "code",
   "execution_count": 19,
   "metadata": {},
   "outputs": [
    {
     "ename": "NameError",
     "evalue": "name 'table2vals' is not defined",
     "output_type": "error",
     "traceback": [
      "\u001b[0;31m---------------------------------------------------------------------------\u001b[0m",
      "\u001b[0;31mNameError\u001b[0m                                 Traceback (most recent call last)",
      "\u001b[0;32m<ipython-input-19-572fd2932c01>\u001b[0m in \u001b[0;36m<module>\u001b[0;34m\u001b[0m\n\u001b[1;32m      1\u001b[0m \u001b[0mcount\u001b[0m \u001b[0;34m=\u001b[0m \u001b[0;36m0\u001b[0m\u001b[0;34m\u001b[0m\u001b[0;34m\u001b[0m\u001b[0m\n\u001b[0;32m----> 2\u001b[0;31m table2[x.select('p')[0].text] = [table2vals[count * 4 + 1].text.strip(),\n\u001b[0m\u001b[1;32m      3\u001b[0m                                     \u001b[0mtable2vals\u001b[0m\u001b[0;34m[\u001b[0m\u001b[0mcount\u001b[0m \u001b[0;34m*\u001b[0m \u001b[0;36m4\u001b[0m \u001b[0;34m+\u001b[0m \u001b[0;36m2\u001b[0m\u001b[0;34m]\u001b[0m\u001b[0;34m.\u001b[0m\u001b[0mtext\u001b[0m\u001b[0;34m.\u001b[0m\u001b[0mstrip\u001b[0m\u001b[0;34m(\u001b[0m\u001b[0;34m)\u001b[0m\u001b[0;34m,\u001b[0m\u001b[0;34m\u001b[0m\u001b[0;34m\u001b[0m\u001b[0m\n\u001b[1;32m      4\u001b[0m                                     \u001b[0mtable2vals\u001b[0m\u001b[0;34m[\u001b[0m\u001b[0mcount\u001b[0m \u001b[0;34m*\u001b[0m \u001b[0;36m4\u001b[0m \u001b[0;34m+\u001b[0m \u001b[0;36m3\u001b[0m\u001b[0;34m]\u001b[0m\u001b[0;34m.\u001b[0m\u001b[0mtext\u001b[0m\u001b[0;34m.\u001b[0m\u001b[0mstrip\u001b[0m\u001b[0;34m(\u001b[0m\u001b[0;34m)\u001b[0m\u001b[0;34m,\u001b[0m\u001b[0;34m\u001b[0m\u001b[0;34m\u001b[0m\u001b[0m\n\u001b[1;32m      5\u001b[0m                                     table2vals[count * 4 + 4].text.strip()]\n",
      "\u001b[0;31mNameError\u001b[0m: name 'table2vals' is not defined"
     ]
    }
   ],
   "source": [
    "count = 0\n",
    "table2[x.select('p')[0].text] = [table2vals[count * 4 + 1].text.strip(),\n",
    "                                    table2vals[count * 4 + 2].text.strip(),\n",
    "                                    table2vals[count * 4 + 3].text.strip(),\n",
    "                                    table2vals[count * 4 + 4].text.strip()]"
   ]
  },
  {
   "cell_type": "code",
   "execution_count": 84,
   "metadata": {},
   "outputs": [],
   "source": [
    "df_table2 = pd.DataFrame(table2).T"
   ]
  },
  {
   "cell_type": "code",
   "execution_count": 85,
   "metadata": {},
   "outputs": [],
   "source": [
    "df_table2 = pd.DataFrame(table2).T\n",
    "df_table2.columns = columnNames"
   ]
  },
  {
   "cell_type": "code",
   "execution_count": 86,
   "metadata": {},
   "outputs": [
    {
     "data": {
      "text/html": [
       "<div>\n",
       "<style scoped>\n",
       "    .dataframe tbody tr th:only-of-type {\n",
       "        vertical-align: middle;\n",
       "    }\n",
       "\n",
       "    .dataframe tbody tr th {\n",
       "        vertical-align: top;\n",
       "    }\n",
       "\n",
       "    .dataframe thead th {\n",
       "        text-align: right;\n",
       "    }\n",
       "</style>\n",
       "<table border=\"1\" class=\"dataframe\">\n",
       "  <thead>\n",
       "    <tr style=\"text-align: right;\">\n",
       "      <th></th>\n",
       "      <th>Week Ended May 27, 2020</th>\n",
       "      <th>Change from May 20, 2020</th>\n",
       "      <th>Change from May 29, 2020</th>\n",
       "      <th>Wednesday May 27, 2020</th>\n",
       "    </tr>\n",
       "  </thead>\n",
       "  <tbody>\n",
       "    <tr>\n",
       "      <td>Currency in circulation11</td>\n",
       "      <td>1,944,218</td>\n",
       "      <td>+   10,951</td>\n",
       "      <td>+  206,641</td>\n",
       "      <td>1,948,196</td>\n",
       "    </tr>\n",
       "    <tr>\n",
       "      <td>Reverse repurchase agreements12</td>\n",
       "      <td>245,506</td>\n",
       "      <td>-   15,342</td>\n",
       "      <td>-   21,894</td>\n",
       "      <td>243,976</td>\n",
       "    </tr>\n",
       "    <tr>\n",
       "      <td>Foreign official and international accounts</td>\n",
       "      <td>244,887</td>\n",
       "      <td>-   13,964</td>\n",
       "      <td>-   17,870</td>\n",
       "      <td>239,650</td>\n",
       "    </tr>\n",
       "    <tr>\n",
       "      <td>Others</td>\n",
       "      <td>619</td>\n",
       "      <td>-    1,378</td>\n",
       "      <td>-    4,024</td>\n",
       "      <td>4,326</td>\n",
       "    </tr>\n",
       "    <tr>\n",
       "      <td>Treasury cash holdings</td>\n",
       "      <td>239</td>\n",
       "      <td>-       34</td>\n",
       "      <td>-       31</td>\n",
       "      <td>207</td>\n",
       "    </tr>\n",
       "  </tbody>\n",
       "</table>\n",
       "</div>"
      ],
      "text/plain": [
       "                                            Week Ended May 27, 2020  \\\n",
       "Currency in circulation11                                 1,944,218   \n",
       "Reverse repurchase agreements12                             245,506   \n",
       "Foreign official and international accounts                 244,887   \n",
       "Others                                                          619   \n",
       "Treasury cash holdings                                          239   \n",
       "\n",
       "                                            Change from May 20, 2020  \\\n",
       "Currency in circulation11                                 +   10,951   \n",
       "Reverse repurchase agreements12                           -   15,342   \n",
       "Foreign official and international accounts               -   13,964   \n",
       "Others                                                    -    1,378   \n",
       "Treasury cash holdings                                    -       34   \n",
       "\n",
       "                                            Change from May 29, 2020  \\\n",
       "Currency in circulation11                                 +  206,641   \n",
       "Reverse repurchase agreements12                           -   21,894   \n",
       "Foreign official and international accounts               -   17,870   \n",
       "Others                                                    -    4,024   \n",
       "Treasury cash holdings                                    -       31   \n",
       "\n",
       "                                            Wednesday May 27, 2020  \n",
       "Currency in circulation11                                1,948,196  \n",
       "Reverse repurchase agreements12                            243,976  \n",
       "Foreign official and international accounts                239,650  \n",
       "Others                                                       4,326  \n",
       "Treasury cash holdings                                         207  "
      ]
     },
     "execution_count": 86,
     "metadata": {},
     "output_type": "execute_result"
    }
   ],
   "source": [
    "df_table2.head()"
   ]
  },
  {
   "cell_type": "markdown",
   "metadata": {},
   "source": [
    "## table 3\n"
   ]
  },
  {
   "cell_type": "code",
   "execution_count": 90,
   "metadata": {},
   "outputs": [
    {
     "data": {
      "text/plain": [
       "[<th headers=\"t5c0\" id=\"t5r1\" style=\"font-family:Arial;font-size:8pt;vertical-align:bottom;border-top:solid 1px black;border-right:solid 1px black;padding-left:1.8245em;text-indent:-1.8245em;\"><p>Securities held in custody for foreign official and international accounts</p></th>,\n",
       " <th headers=\"t5c0 t5r1\" id=\"t5r2\" style=\"font-family:Arial;font-size:8pt;vertical-align:bottom;border-right:solid 1px black;padding-left:0.7184em;\"><p>Marketable U.S. Treasury securities<sup>1</sup></p></th>,\n",
       " <th headers=\"t5c0 t5r1\" id=\"t5r3\" style=\"font-family:Arial;font-size:8pt;vertical-align:bottom;border-right:solid 1px black;padding-left:0.7184em;\"><p>Federal agency debt and mortgage-backed securities<sup>2</sup></p></th>,\n",
       " <th headers=\"t5c0 t5r1\" id=\"t5r4\" style=\"font-family:Arial;font-size:8pt;vertical-align:bottom;border-right:solid 1px black;padding-left:0.7184em;\"><p>Other securities<sup>3</sup></p></th>,\n",
       " <th headers=\"t5c0\" id=\"t5r5\" style=\"font-family:Arial;font-size:8pt;vertical-align:bottom;border-right:solid 1px black;\"><p>Securities lent to dealers</p></th>,\n",
       " <th headers=\"t5c0 t5r5\" id=\"t5r6\" style=\"font-family:Arial;font-size:8pt;vertical-align:bottom;border-right:solid 1px black;padding-left:0.7184em;\"><p>Overnight facility<sup>4</sup></p></th>,\n",
       " <th headers=\"t5c0 t5r5 t5r6\" id=\"t5r7\" style=\"font-family:Arial;font-size:8pt;vertical-align:bottom;border-right:solid 1px black;padding-left:1.4571em;\"><p>U.S. Treasury securities</p></th>,\n",
       " <th headers=\"t5c0 t5r5 t5r6\" id=\"t5r8\" style=\"font-family:Arial;font-size:8pt;vertical-align:bottom;border-bottom:solid 1px black;border-right:solid 1px black;padding-left:1.4571em;\"><p>Federal agency debt securities</p></th>]"
      ]
     },
     "execution_count": 90,
     "metadata": {},
     "output_type": "execute_result"
    }
   ],
   "source": [
    "tableHeaders[2]"
   ]
  },
  {
   "cell_type": "code",
   "execution_count": 95,
   "metadata": {},
   "outputs": [],
   "source": [
    "df_table3 = createTable(table3vals, tableHeaders[2])"
   ]
  },
  {
   "cell_type": "code",
   "execution_count": 97,
   "metadata": {},
   "outputs": [
    {
     "data": {
      "text/html": [
       "<div>\n",
       "<style scoped>\n",
       "    .dataframe tbody tr th:only-of-type {\n",
       "        vertical-align: middle;\n",
       "    }\n",
       "\n",
       "    .dataframe tbody tr th {\n",
       "        vertical-align: top;\n",
       "    }\n",
       "\n",
       "    .dataframe thead th {\n",
       "        text-align: right;\n",
       "    }\n",
       "</style>\n",
       "<table border=\"1\" class=\"dataframe\">\n",
       "  <thead>\n",
       "    <tr style=\"text-align: right;\">\n",
       "      <th></th>\n",
       "      <th>Week Ended May 27, 2020</th>\n",
       "      <th>Change from May 20, 2020</th>\n",
       "      <th>Change from May 29, 2020</th>\n",
       "      <th>Wednesday May 27, 2020</th>\n",
       "    </tr>\n",
       "  </thead>\n",
       "  <tbody>\n",
       "    <tr>\n",
       "      <td>Other securities3</td>\n",
       "      <td>85,420</td>\n",
       "      <td>+      475</td>\n",
       "      <td>+    9,581</td>\n",
       "      <td>85,447</td>\n",
       "    </tr>\n",
       "    <tr>\n",
       "      <td>Securities lent to dealers</td>\n",
       "      <td>32,694</td>\n",
       "      <td>+      347</td>\n",
       "      <td>+   11,237</td>\n",
       "      <td>32,934</td>\n",
       "    </tr>\n",
       "    <tr>\n",
       "      <td>Overnight facility4</td>\n",
       "      <td>32,694</td>\n",
       "      <td>+      347</td>\n",
       "      <td>+   11,237</td>\n",
       "      <td>32,934</td>\n",
       "    </tr>\n",
       "    <tr>\n",
       "      <td>U.S. Treasury securities</td>\n",
       "      <td>32,694</td>\n",
       "      <td>+      347</td>\n",
       "      <td>+   11,237</td>\n",
       "      <td>32,934</td>\n",
       "    </tr>\n",
       "    <tr>\n",
       "      <td>Federal agency debt securities</td>\n",
       "      <td>0</td>\n",
       "      <td>0</td>\n",
       "      <td>0</td>\n",
       "      <td>0</td>\n",
       "    </tr>\n",
       "  </tbody>\n",
       "</table>\n",
       "</div>"
      ],
      "text/plain": [
       "                               Week Ended May 27, 2020  \\\n",
       "Other securities3                               85,420   \n",
       "Securities lent to dealers                      32,694   \n",
       "Overnight facility4                             32,694   \n",
       "U.S. Treasury securities                        32,694   \n",
       "Federal agency debt securities                       0   \n",
       "\n",
       "                               Change from May 20, 2020  \\\n",
       "Other securities3                            +      475   \n",
       "Securities lent to dealers                   +      347   \n",
       "Overnight facility4                          +      347   \n",
       "U.S. Treasury securities                     +      347   \n",
       "Federal agency debt securities                        0   \n",
       "\n",
       "                               Change from May 29, 2020 Wednesday May 27, 2020  \n",
       "Other securities3                            +    9,581                 85,447  \n",
       "Securities lent to dealers                   +   11,237                 32,934  \n",
       "Overnight facility4                          +   11,237                 32,934  \n",
       "U.S. Treasury securities                     +   11,237                 32,934  \n",
       "Federal agency debt securities                        0                      0  "
      ]
     },
     "execution_count": 97,
     "metadata": {},
     "output_type": "execute_result"
    }
   ],
   "source": [
    "df_table3.tail()"
   ]
  },
  {
   "cell_type": "code",
   "execution_count": 131,
   "metadata": {},
   "outputs": [
    {
     "name": "stdout",
     "output_type": "stream",
     "text": [
      "6\n",
      "13\n",
      "20\n",
      "27\n",
      "34\n",
      "41\n",
      "48\n",
      "55\n",
      "62\n",
      "69\n",
      "76\n",
      "83\n",
      "fail at 12\n",
      "fail at 13\n",
      "fail at 14\n",
      "fail at 15\n"
     ]
    }
   ],
   "source": [
    "assliabNames = ['Within 15 days',\n",
    "               '16 to 90 days',\n",
    "               '91 days to 1 year',\n",
    "               'Over 1 year to 5 years',\n",
    "               'Over 5 years to 10 years',\n",
    "               'Over 10 years',\n",
    "               'All']\n",
    "df_table4 = createTable(table4vals,tableHeaders[3], columns = assliabNames)"
   ]
  },
  {
   "cell_type": "code",
   "execution_count": 115,
   "metadata": {},
   "outputs": [
    {
     "data": {
      "text/plain": [
       "84"
      ]
     },
     "execution_count": 115,
     "metadata": {},
     "output_type": "execute_result"
    }
   ],
   "source": [
    "7 * 12"
   ]
  },
  {
   "cell_type": "code",
   "execution_count": 114,
   "metadata": {},
   "outputs": [
    {
     "data": {
      "text/plain": [
       "(84, 7)"
      ]
     },
     "execution_count": 114,
     "metadata": {},
     "output_type": "execute_result"
    }
   ],
   "source": [
    "len(table4vals), len(assliabNames)"
   ]
  },
  {
   "cell_type": "code",
   "execution_count": 123,
   "metadata": {},
   "outputs": [],
   "source": [
    "allvals = []\n",
    "for x in range(int(len(table4vals) / len(assliabNames))):\n",
    "    vals = []\n",
    "    for num, col in enumerate(assliabNames):\n",
    "        vals.append(table4vals[x * len(assliabNames) + num ].text.strip())\n",
    "    allvals.append(vals)\n",
    "        "
   ]
  },
  {
   "cell_type": "code",
   "execution_count": 130,
   "metadata": {},
   "outputs": [],
   "source": [
    "def createTable(data, headers, columns=columnNames):\n",
    "    table = []\n",
    "    table1 = {}\n",
    "    for c, x in enumerate(headers):\n",
    "        try:\n",
    "            vals = []\n",
    "            for num, col in enumerate(columns):\n",
    "                vals.append(data[c * len(columns) + num ].text.strip())\n",
    "            table1[x.select('p')[0].text] = vals\n",
    "            print(c * len(columns) + num)\n",
    "        except:\n",
    "            print('fail at {}'.format(c))\n",
    "            #can't use enumerate since ('p')[0] may be out of index\n",
    "            continue\n",
    "    df = pd.DataFrame(table1).T\n",
    "    df.columns = columns\n",
    "    return df"
   ]
  },
  {
   "cell_type": "code",
   "execution_count": 124,
   "metadata": {
    "collapsed": true
   },
   "outputs": [
    {
     "data": {
      "text/plain": [
       "[['9,777', '36,411', '11,497', '49,211', '0', '...', '106,896'],\n",
       " ['55,608',\n",
       "  '279,039',\n",
       "  '564,220',\n",
       "  '1,577,552',\n",
       "  '719,915',\n",
       "  '913,177',\n",
       "  '4,109,512'],\n",
       " ['-\\xa0\\xa0\\xa011,251',\n",
       "  '+\\xa0\\xa0\\xa0\\xa04,864',\n",
       "  '+\\xa0\\xa0\\xa0\\xa06,377',\n",
       "  '+\\xa0\\xa0\\xa0\\xa09,486',\n",
       "  '+\\xa0\\xa0\\xa0\\xa08,657',\n",
       "  '+\\xa0\\xa0\\xa0\\xa02,047',\n",
       "  '+\\xa0\\xa0\\xa020,181'],\n",
       " ['0', '0', '0', '0', '1,436', '911', '2,347'],\n",
       " ['0', '0', '0', '0', '0', '0', '0'],\n",
       " ['0', '0', '4', '2,217', '80,749', '1,752,140', '1,835,110'],\n",
       " ['0',\n",
       "  '0',\n",
       "  '-\\xa0\\xa0\\xa0\\xa0\\xa0\\xa0\\xa0\\xa01',\n",
       "  '-\\xa0\\xa0\\xa0\\xa0\\xa0\\xa0\\xa074',\n",
       "  '-\\xa0\\xa0\\xa0\\xa01,156',\n",
       "  '-\\xa0\\xa0\\xa026,499',\n",
       "  '-\\xa0\\xa0\\xa027,731'],\n",
       " ['0', '4,255', '0', '...', '...', '...', '4,255'],\n",
       " ['139,551', '41,550', '...', '...', '...', '...', '181,101'],\n",
       " ['126,741', '322,205', '0', '0', '0', '0', '448,946'],\n",
       " ['243,976', '0', '...', '...', '...', '...', '243,976'],\n",
       " ['0', '0', '0', '...', '...', '...', '0']]"
      ]
     },
     "execution_count": 124,
     "metadata": {},
     "output_type": "execute_result"
    }
   ],
   "source": [
    "allvals"
   ]
  },
  {
   "cell_type": "code",
   "execution_count": 107,
   "metadata": {
    "collapsed": true
   },
   "outputs": [
    {
     "data": {
      "text/plain": [
       "[<p>     9,777</p>,\n",
       " <p>    36,411</p>,\n",
       " <p>    11,497</p>,\n",
       " <p>    49,211</p>,\n",
       " <p>         0</p>,\n",
       " <p>...</p>,\n",
       " <p>   106,896</p>,\n",
       " <p>    55,608</p>,\n",
       " <p>   279,039</p>,\n",
       " <p>   564,220</p>,\n",
       " <p> 1,577,552</p>,\n",
       " <p>   719,915</p>,\n",
       " <p>   913,177</p>,\n",
       " <p> 4,109,512</p>,\n",
       " <p>-   11,251</p>,\n",
       " <p>+    4,864</p>,\n",
       " <p>+    6,377</p>,\n",
       " <p>+    9,486</p>,\n",
       " <p>+    8,657</p>,\n",
       " <p>+    2,047</p>,\n",
       " <p>+   20,181</p>,\n",
       " <p>         0</p>,\n",
       " <p>         0</p>,\n",
       " <p>         0</p>,\n",
       " <p>         0</p>,\n",
       " <p>     1,436</p>,\n",
       " <p>       911</p>,\n",
       " <p>     2,347</p>,\n",
       " <p>         0</p>,\n",
       " <p>         0</p>,\n",
       " <p>         0</p>,\n",
       " <p>         0</p>,\n",
       " <p>         0</p>,\n",
       " <p>         0</p>,\n",
       " <p>         0</p>,\n",
       " <p>         0</p>,\n",
       " <p>         0</p>,\n",
       " <p>         4</p>,\n",
       " <p>     2,217</p>,\n",
       " <p>    80,749</p>,\n",
       " <p> 1,752,140</p>,\n",
       " <p> 1,835,110</p>,\n",
       " <p>         0</p>,\n",
       " <p>         0</p>,\n",
       " <p>-        1</p>,\n",
       " <p>-       74</p>,\n",
       " <p>-    1,156</p>,\n",
       " <p>-   26,499</p>,\n",
       " <p>-   27,731</p>,\n",
       " <p>         0</p>,\n",
       " <p>     4,255</p>,\n",
       " <p>         0</p>,\n",
       " <p>...</p>,\n",
       " <p>...</p>,\n",
       " <p>...</p>,\n",
       " <p>     4,255</p>,\n",
       " <p>   139,551</p>,\n",
       " <p>    41,550</p>,\n",
       " <p>...</p>,\n",
       " <p>...</p>,\n",
       " <p>...</p>,\n",
       " <p>...</p>,\n",
       " <p>   181,101</p>,\n",
       " <p>   126,741</p>,\n",
       " <p>   322,205</p>,\n",
       " <p>         0</p>,\n",
       " <p>         0</p>,\n",
       " <p>         0</p>,\n",
       " <p>         0</p>,\n",
       " <p>   448,946</p>,\n",
       " <p>   243,976</p>,\n",
       " <p>         0</p>,\n",
       " <p>...</p>,\n",
       " <p>...</p>,\n",
       " <p>...</p>,\n",
       " <p>...</p>,\n",
       " <p>   243,976</p>,\n",
       " <p>         0</p>,\n",
       " <p>         0</p>,\n",
       " <p>         0</p>,\n",
       " <p>...</p>,\n",
       " <p>...</p>,\n",
       " <p>...</p>,\n",
       " <p>         0</p>]"
      ]
     },
     "execution_count": 107,
     "metadata": {},
     "output_type": "execute_result"
    }
   ],
   "source": [
    "table4vals"
   ]
  },
  {
   "cell_type": "code",
   "execution_count": 111,
   "metadata": {},
   "outputs": [
    {
     "data": {
      "text/plain": [
       "<p>         0</p>"
      ]
     },
     "execution_count": 111,
     "metadata": {},
     "output_type": "execute_result"
    }
   ],
   "source": [
    "table4vals[51]"
   ]
  },
  {
   "cell_type": "code",
   "execution_count": 127,
   "metadata": {},
   "outputs": [
    {
     "data": {
      "text/html": [
       "<div>\n",
       "<style scoped>\n",
       "    .dataframe tbody tr th:only-of-type {\n",
       "        vertical-align: middle;\n",
       "    }\n",
       "\n",
       "    .dataframe tbody tr th {\n",
       "        vertical-align: top;\n",
       "    }\n",
       "\n",
       "    .dataframe thead th {\n",
       "        text-align: right;\n",
       "    }\n",
       "</style>\n",
       "<table border=\"1\" class=\"dataframe\">\n",
       "  <thead>\n",
       "    <tr style=\"text-align: right;\">\n",
       "      <th></th>\n",
       "      <th>Within 15 days</th>\n",
       "      <th>16 to 90 days</th>\n",
       "      <th>91 days to 1 year</th>\n",
       "      <th>Over 1 year to 5 years</th>\n",
       "      <th>Over 5 years to 10 years</th>\n",
       "      <th>Over 10 years</th>\n",
       "      <th>All</th>\n",
       "    </tr>\n",
       "  </thead>\n",
       "  <tbody>\n",
       "    <tr>\n",
       "      <td>Loans1</td>\n",
       "      <td>9,777</td>\n",
       "      <td>36,411</td>\n",
       "      <td>11,497</td>\n",
       "      <td>49,211</td>\n",
       "      <td>0</td>\n",
       "      <td>...</td>\n",
       "      <td>106,896</td>\n",
       "    </tr>\n",
       "    <tr>\n",
       "      <td>U.S. Treasury securities2</td>\n",
       "      <td>55,608</td>\n",
       "      <td>279,039</td>\n",
       "      <td>564,220</td>\n",
       "      <td>1,577,552</td>\n",
       "      <td>719,915</td>\n",
       "      <td>913,177</td>\n",
       "      <td>4,109,512</td>\n",
       "    </tr>\n",
       "    <tr>\n",
       "      <td>Holdings</td>\n",
       "      <td>139,551</td>\n",
       "      <td>41,550</td>\n",
       "      <td>...</td>\n",
       "      <td>...</td>\n",
       "      <td>...</td>\n",
       "      <td>...</td>\n",
       "      <td>181,101</td>\n",
       "    </tr>\n",
       "    <tr>\n",
       "      <td>Weekly changes</td>\n",
       "      <td>126,741</td>\n",
       "      <td>322,205</td>\n",
       "      <td>0</td>\n",
       "      <td>0</td>\n",
       "      <td>0</td>\n",
       "      <td>0</td>\n",
       "      <td>448,946</td>\n",
       "    </tr>\n",
       "    <tr>\n",
       "      <td>Federal agency debt securities3</td>\n",
       "      <td>0</td>\n",
       "      <td>0</td>\n",
       "      <td>0</td>\n",
       "      <td>0</td>\n",
       "      <td>0</td>\n",
       "      <td>0</td>\n",
       "      <td>0</td>\n",
       "    </tr>\n",
       "    <tr>\n",
       "      <td>Mortgage-backed securities4</td>\n",
       "      <td>0</td>\n",
       "      <td>4,255</td>\n",
       "      <td>0</td>\n",
       "      <td>...</td>\n",
       "      <td>...</td>\n",
       "      <td>...</td>\n",
       "      <td>4,255</td>\n",
       "    </tr>\n",
       "    <tr>\n",
       "      <td>Commercial paper held by Commercial</td>\n",
       "      <td>243,976</td>\n",
       "      <td>0</td>\n",
       "      <td>...</td>\n",
       "      <td>...</td>\n",
       "      <td>...</td>\n",
       "      <td>...</td>\n",
       "      <td>243,976</td>\n",
       "    </tr>\n",
       "    <tr>\n",
       "      <td>Paper Funding Facility II LLC5</td>\n",
       "      <td>0</td>\n",
       "      <td>0</td>\n",
       "      <td>0</td>\n",
       "      <td>...</td>\n",
       "      <td>...</td>\n",
       "      <td>...</td>\n",
       "      <td>0</td>\n",
       "    </tr>\n",
       "  </tbody>\n",
       "</table>\n",
       "</div>"
      ],
      "text/plain": [
       "                                    Within 15 days 16 to 90 days  \\\n",
       "Loans1                                       9,777        36,411   \n",
       "U.S. Treasury securities2                   55,608       279,039   \n",
       "Holdings                                   139,551        41,550   \n",
       "Weekly changes                             126,741       322,205   \n",
       "Federal agency debt securities3                  0             0   \n",
       "Mortgage-backed securities4                      0         4,255   \n",
       "Commercial paper held by Commercial        243,976             0   \n",
       "Paper Funding Facility II LLC5                   0             0   \n",
       "\n",
       "                                    91 days to 1 year Over 1 year to 5 years  \\\n",
       "Loans1                                         11,497                 49,211   \n",
       "U.S. Treasury securities2                     564,220              1,577,552   \n",
       "Holdings                                          ...                    ...   \n",
       "Weekly changes                                      0                      0   \n",
       "Federal agency debt securities3                     0                      0   \n",
       "Mortgage-backed securities4                         0                    ...   \n",
       "Commercial paper held by Commercial               ...                    ...   \n",
       "Paper Funding Facility II LLC5                      0                    ...   \n",
       "\n",
       "                                    Over 5 years to 10 years Over 10 years  \\\n",
       "Loans1                                                     0           ...   \n",
       "U.S. Treasury securities2                            719,915       913,177   \n",
       "Holdings                                                 ...           ...   \n",
       "Weekly changes                                             0             0   \n",
       "Federal agency debt securities3                            0             0   \n",
       "Mortgage-backed securities4                              ...           ...   \n",
       "Commercial paper held by Commercial                      ...           ...   \n",
       "Paper Funding Facility II LLC5                           ...           ...   \n",
       "\n",
       "                                           All  \n",
       "Loans1                                 106,896  \n",
       "U.S. Treasury securities2            4,109,512  \n",
       "Holdings                               181,101  \n",
       "Weekly changes                         448,946  \n",
       "Federal agency debt securities3              0  \n",
       "Mortgage-backed securities4              4,255  \n",
       "Commercial paper held by Commercial    243,976  \n",
       "Paper Funding Facility II LLC5               0  "
      ]
     },
     "execution_count": 127,
     "metadata": {},
     "output_type": "execute_result"
    }
   ],
   "source": [
    "df_table4"
   ]
  },
  {
   "cell_type": "code",
   "execution_count": 74,
   "metadata": {
    "collapsed": true
   },
   "outputs": [
    {
     "data": {
      "text/plain": [
       "[<th headers=\"t5c0\" id=\"t5r1\" style=\"font-family:Arial;font-size:8pt;vertical-align:bottom;border-top:solid 1px black;border-right:solid 1px black;padding-left:1.8245em;text-indent:-1.8245em;\"><p>Securities held in custody for foreign official and international accounts</p></th>,\n",
       " <th headers=\"t5c0 t5r1\" id=\"t5r2\" style=\"font-family:Arial;font-size:8pt;vertical-align:bottom;border-right:solid 1px black;padding-left:0.7184em;\"><p>Marketable U.S. Treasury securities<sup>1</sup></p></th>,\n",
       " <th headers=\"t5c0 t5r1\" id=\"t5r3\" style=\"font-family:Arial;font-size:8pt;vertical-align:bottom;border-right:solid 1px black;padding-left:0.7184em;\"><p>Federal agency debt and mortgage-backed securities<sup>2</sup></p></th>,\n",
       " <th headers=\"t5c0 t5r1\" id=\"t5r4\" style=\"font-family:Arial;font-size:8pt;vertical-align:bottom;border-right:solid 1px black;padding-left:0.7184em;\"><p>Other securities<sup>3</sup></p></th>,\n",
       " <th headers=\"t5c0\" id=\"t5r5\" style=\"font-family:Arial;font-size:8pt;vertical-align:bottom;border-right:solid 1px black;\"><p>Securities lent to dealers</p></th>,\n",
       " <th headers=\"t5c0 t5r5\" id=\"t5r6\" style=\"font-family:Arial;font-size:8pt;vertical-align:bottom;border-right:solid 1px black;padding-left:0.7184em;\"><p>Overnight facility<sup>4</sup></p></th>,\n",
       " <th headers=\"t5c0 t5r5 t5r6\" id=\"t5r7\" style=\"font-family:Arial;font-size:8pt;vertical-align:bottom;border-right:solid 1px black;padding-left:1.4571em;\"><p>U.S. Treasury securities</p></th>,\n",
       " <th headers=\"t5c0 t5r5 t5r6\" id=\"t5r8\" style=\"font-family:Arial;font-size:8pt;vertical-align:bottom;border-bottom:solid 1px black;border-right:solid 1px black;padding-left:1.4571em;\"><p>Federal agency debt securities</p></th>]"
      ]
     },
     "execution_count": 74,
     "metadata": {},
     "output_type": "execute_result"
    }
   ],
   "source": [
    "tableHeaders[2]"
   ]
  },
  {
   "cell_type": "code",
   "execution_count": 103,
   "metadata": {
    "scrolled": true
   },
   "outputs": [
    {
     "data": {
      "text/plain": [
       "[<p>     9,777</p>,\n",
       " <p>    36,411</p>,\n",
       " <p>    11,497</p>,\n",
       " <p>    49,211</p>,\n",
       " <p>         0</p>,\n",
       " <p>...</p>,\n",
       " <p>   106,896</p>,\n",
       " <p>    55,608</p>,\n",
       " <p>   279,039</p>,\n",
       " <p>   564,220</p>,\n",
       " <p> 1,577,552</p>,\n",
       " <p>   719,915</p>,\n",
       " <p>   913,177</p>,\n",
       " <p> 4,109,512</p>,\n",
       " <p>-   11,251</p>,\n",
       " <p>+    4,864</p>,\n",
       " <p>+    6,377</p>,\n",
       " <p>+    9,486</p>,\n",
       " <p>+    8,657</p>,\n",
       " <p>+    2,047</p>,\n",
       " <p>+   20,181</p>,\n",
       " <p>         0</p>,\n",
       " <p>         0</p>,\n",
       " <p>         0</p>,\n",
       " <p>         0</p>,\n",
       " <p>     1,436</p>,\n",
       " <p>       911</p>,\n",
       " <p>     2,347</p>,\n",
       " <p>         0</p>,\n",
       " <p>         0</p>,\n",
       " <p>         0</p>,\n",
       " <p>         0</p>,\n",
       " <p>         0</p>,\n",
       " <p>         0</p>,\n",
       " <p>         0</p>,\n",
       " <p>         0</p>,\n",
       " <p>         0</p>,\n",
       " <p>         4</p>,\n",
       " <p>     2,217</p>,\n",
       " <p>    80,749</p>,\n",
       " <p> 1,752,140</p>,\n",
       " <p> 1,835,110</p>,\n",
       " <p>         0</p>,\n",
       " <p>         0</p>,\n",
       " <p>-        1</p>,\n",
       " <p>-       74</p>,\n",
       " <p>-    1,156</p>,\n",
       " <p>-   26,499</p>,\n",
       " <p>-   27,731</p>,\n",
       " <p>         0</p>,\n",
       " <p>     4,255</p>,\n",
       " <p>         0</p>,\n",
       " <p>...</p>,\n",
       " <p>...</p>,\n",
       " <p>...</p>,\n",
       " <p>     4,255</p>,\n",
       " <p>   139,551</p>,\n",
       " <p>    41,550</p>,\n",
       " <p>...</p>,\n",
       " <p>...</p>,\n",
       " <p>...</p>,\n",
       " <p>...</p>,\n",
       " <p>   181,101</p>,\n",
       " <p>   126,741</p>,\n",
       " <p>   322,205</p>,\n",
       " <p>         0</p>,\n",
       " <p>         0</p>,\n",
       " <p>         0</p>,\n",
       " <p>         0</p>,\n",
       " <p>   448,946</p>,\n",
       " <p>   243,976</p>,\n",
       " <p>         0</p>,\n",
       " <p>...</p>,\n",
       " <p>...</p>,\n",
       " <p>...</p>,\n",
       " <p>...</p>,\n",
       " <p>   243,976</p>,\n",
       " <p>         0</p>,\n",
       " <p>         0</p>,\n",
       " <p>         0</p>,\n",
       " <p>...</p>,\n",
       " <p>...</p>,\n",
       " <p>...</p>,\n",
       " <p>         0</p>]"
      ]
     },
     "execution_count": 103,
     "metadata": {},
     "output_type": "execute_result"
    }
   ],
   "source": [
    "table4vals"
   ]
  },
  {
   "cell_type": "markdown",
   "metadata": {},
   "source": [
    "## cleaning"
   ]
  },
  {
   "cell_type": "code",
   "execution_count": 179,
   "metadata": {
    "collapsed": true
   },
   "outputs": [
    {
     "data": {
      "text/plain": [
       "{'Reserve Bank credit': ['7,059,561',\n",
       "  '+\\xa0\\xa0137,525',\n",
       "  '+3,239,597',\n",
       "  '7,058,713'],\n",
       " 'Securities held outright1': ['5,958,725',\n",
       "  '+\\xa0\\xa0\\xa086,155',\n",
       "  '+2,279,834',\n",
       "  '5,946,969'],\n",
       " 'U.S. Treasury securities': ['4,101,108',\n",
       "  '+\\xa0\\xa0\\xa027,033',\n",
       "  '+1,986,418',\n",
       "  '4,109,512'],\n",
       " 'Bills2': ['326,044', '0', '+\\xa0\\xa0325,994', '326,044'],\n",
       " 'Notes and bonds, nominal2': ['3,481,681',\n",
       "  '+\\xa0\\xa0\\xa024,558',\n",
       "  '+1,505,116',\n",
       "  '3,489,174'],\n",
       " 'Notes and bonds, inflation-indexed2': ['256,594',\n",
       "  '+\\xa0\\xa0\\xa0\\xa02,400',\n",
       "  '+\\xa0\\xa0141,233',\n",
       "  '257,451'],\n",
       " 'Inflation compensation3': ['36,789',\n",
       "  '+\\xa0\\xa0\\xa0\\xa0\\xa0\\xa0\\xa075',\n",
       "  '+\\xa0\\xa0\\xa014,075',\n",
       "  '36,843'],\n",
       " 'Federal agency debt securities2': ['2,347', '0', '0', '2,347'],\n",
       " 'Mortgage-backed securities4': ['1,855,270',\n",
       "  '+\\xa0\\xa0\\xa059,122',\n",
       "  '+\\xa0\\xa0293,416',\n",
       "  '1,835,110'],\n",
       " 'Unamortized premiums on securities held outright5': ['304,609',\n",
       "  '+\\xa0\\xa0\\xa0\\xa04,442',\n",
       "  '+\\xa0\\xa0171,805',\n",
       "  '304,256'],\n",
       " 'Unamortized discounts on securities held outright5': ['-5,544',\n",
       "  '+\\xa0\\xa0\\xa0\\xa0\\xa0\\xa0127',\n",
       "  '+\\xa0\\xa0\\xa0\\xa07,470',\n",
       "  '-5,500'],\n",
       " 'Repurchase agreements6': ['174,930',\n",
       "  '+\\xa0\\xa0\\xa013,201',\n",
       "  '+\\xa0\\xa0174,930',\n",
       "  '181,101'],\n",
       " 'Foreign official': ['1',\n",
       "  '+\\xa0\\xa0\\xa0\\xa0\\xa0\\xa0\\xa0\\xa01',\n",
       "  '+\\xa0\\xa0\\xa0\\xa0\\xa0\\xa0\\xa0\\xa01',\n",
       "  '1'],\n",
       " 'Others': ['174,929', '+\\xa0\\xa0\\xa013,200', '+\\xa0\\xa0174,929', '181,100'],\n",
       " 'Loans': ['107,306', '-\\xa0\\xa0\\xa0\\xa04,483', '+\\xa0\\xa0107,243', '106,896'],\n",
       " 'Primary credit': ['18,831',\n",
       "  '-\\xa0\\xa0\\xa0\\xa02,651',\n",
       "  '+\\xa0\\xa0\\xa018,811',\n",
       "  '18,198'],\n",
       " 'Secondary credit': ['0', '0', '0', '0'],\n",
       " 'Seasonal credit': ['2', '0', '-\\xa0\\xa0\\xa0\\xa0\\xa0\\xa0\\xa041', '2'],\n",
       " 'Primary Dealer Credit Facility': ['6,961',\n",
       "  '-\\xa0\\xa0\\xa0\\xa02,008',\n",
       "  '+\\xa0\\xa0\\xa0\\xa06,961',\n",
       "  '6,241'],\n",
       " 'Money Market Mutual Fund Liquidity Facility': ['34,321',\n",
       "  '-\\xa0\\xa0\\xa0\\xa03,726',\n",
       "  '+\\xa0\\xa0\\xa034,321',\n",
       "  '33,244'],\n",
       " 'Paycheck Protection Program Liquidity Facility ': ['47,192',\n",
       "  '+\\xa0\\xa0\\xa0\\xa03,903',\n",
       "  '+\\xa0\\xa0\\xa047,192',\n",
       "  '49,211'],\n",
       " 'Other credit extensions': ['0', '0', '0', '0'],\n",
       " 'Net portfolio holdings of Commercial Paper Funding Facility II LLC7': ['11,578',\n",
       "  '+\\xa0\\xa0\\xa0\\xa07,286',\n",
       "  '+\\xa0\\xa0\\xa011,578',\n",
       "  '12,794'],\n",
       " 'Net portfolio holdings of Corporate Credit Facilities LLC7': ['29,852',\n",
       "  '+\\xa0\\xa0\\xa028,669',\n",
       "  '+\\xa0\\xa0\\xa029,852',\n",
       "  '34,853'],\n",
       " 'Net portfolio holdings of Municipal Liquidity Facility LLC7': ['0',\n",
       "  '0',\n",
       "  '0',\n",
       "  '0'],\n",
       " 'Float': ['-212',\n",
       "  '-\\xa0\\xa0\\xa0\\xa0\\xa0\\xa0\\xa038',\n",
       "  '+\\xa0\\xa0\\xa0\\xa0\\xa0\\xa0\\xa0\\xa08',\n",
       "  '-288'],\n",
       " 'Central bank liquidity swaps8': ['448,736',\n",
       "  '+\\xa0\\xa0\\xa0\\xa02,437',\n",
       "  '+\\xa0\\xa0448,719',\n",
       "  '448,946'],\n",
       " 'Other Federal Reserve assets9': ['29,581',\n",
       "  '-\\xa0\\xa0\\xa0\\xa0\\xa0\\xa0271',\n",
       "  '+\\xa0\\xa0\\xa0\\xa08,159',\n",
       "  '28,687'],\n",
       " 'Foreign currency denominated assets10': ['20,525',\n",
       "  '+\\xa0\\xa0\\xa0\\xa0\\xa0\\xa0\\xa044',\n",
       "  '-\\xa0\\xa0\\xa0\\xa0\\xa0\\xa0172',\n",
       "  '20,564'],\n",
       " 'Gold stock': ['11,041', '0', '0', '11,041'],\n",
       " 'Special drawing rights certificate account': ['5,200', '0', '0', '5,200'],\n",
       " 'Treasury currency outstanding11': ['50,331',\n",
       "  '+\\xa0\\xa0\\xa0\\xa0\\xa0\\xa0\\xa014',\n",
       "  '+\\xa0\\xa0\\xa0\\xa0\\xa0\\xa0426',\n",
       "  '50,331'],\n",
       " 'Total factors supplying reserve funds': ['7,146,658',\n",
       "  '+\\xa0\\xa0137,582',\n",
       "  '+3,239,850',\n",
       "  '7,145,850']}"
      ]
     },
     "execution_count": 179,
     "metadata": {},
     "output_type": "execute_result"
    }
   ],
   "source": [
    "table1"
   ]
  },
  {
   "cell_type": "code",
   "execution_count": 61,
   "metadata": {},
   "outputs": [],
   "source": [
    "#remove unic issues '\\xa0'\n",
    "def removeUnicode(x):\n",
    "    if '\\xa0' in str(x):\n",
    "        return x.replace('\\xa0', '')\n",
    "    else:\n",
    "        return x\n",
    "def removePlus(x):\n",
    "    if '+' in str(x):\n",
    "        return x.replace('+', '')\n",
    "    else:\n",
    "        return x\n",
    "def removeComma(x):\n",
    "    if ',' in str(x):\n",
    "        return x.replace(',', '')\n",
    "    else:\n",
    "        return x\n"
   ]
  },
  {
   "cell_type": "code",
   "execution_count": 87,
   "metadata": {},
   "outputs": [],
   "source": [
    "#apply methods and change to int\n",
    "all_dfs = [df_table1, df_table2]\n",
    "for df in all_dfs:\n",
    "    for c in columnNames:\n",
    "        df[c] = df[c].apply(removeUnicode)\n",
    "        df[c] = df[c].apply(removePlus)\n",
    "        df[c] = df[c].apply(removeComma)\n",
    "        df[c] = df[c].astype(int)"
   ]
  },
  {
   "cell_type": "code",
   "execution_count": 67,
   "metadata": {},
   "outputs": [
    {
     "data": {
      "text/html": [
       "<div>\n",
       "<style scoped>\n",
       "    .dataframe tbody tr th:only-of-type {\n",
       "        vertical-align: middle;\n",
       "    }\n",
       "\n",
       "    .dataframe tbody tr th {\n",
       "        vertical-align: top;\n",
       "    }\n",
       "\n",
       "    .dataframe thead th {\n",
       "        text-align: right;\n",
       "    }\n",
       "</style>\n",
       "<table border=\"1\" class=\"dataframe\">\n",
       "  <thead>\n",
       "    <tr style=\"text-align: right;\">\n",
       "      <th></th>\n",
       "      <th>Week Ended May 27, 2020</th>\n",
       "      <th>Change from May 20, 2020</th>\n",
       "      <th>Change from May 29, 2020</th>\n",
       "      <th>Wednesday May 27, 2020</th>\n",
       "    </tr>\n",
       "  </thead>\n",
       "  <tbody>\n",
       "    <tr>\n",
       "      <td>Reserve Bank credit</td>\n",
       "      <td>7059561</td>\n",
       "      <td>137525</td>\n",
       "      <td>3239597</td>\n",
       "      <td>7058713</td>\n",
       "    </tr>\n",
       "    <tr>\n",
       "      <td>Securities held outright1</td>\n",
       "      <td>5958725</td>\n",
       "      <td>86155</td>\n",
       "      <td>2279834</td>\n",
       "      <td>5946969</td>\n",
       "    </tr>\n",
       "    <tr>\n",
       "      <td>U.S. Treasury securities</td>\n",
       "      <td>4101108</td>\n",
       "      <td>27033</td>\n",
       "      <td>1986418</td>\n",
       "      <td>4109512</td>\n",
       "    </tr>\n",
       "    <tr>\n",
       "      <td>Bills2</td>\n",
       "      <td>326044</td>\n",
       "      <td>0</td>\n",
       "      <td>325994</td>\n",
       "      <td>326044</td>\n",
       "    </tr>\n",
       "    <tr>\n",
       "      <td>Notes and bonds, nominal2</td>\n",
       "      <td>3481681</td>\n",
       "      <td>24558</td>\n",
       "      <td>1505116</td>\n",
       "      <td>3489174</td>\n",
       "    </tr>\n",
       "  </tbody>\n",
       "</table>\n",
       "</div>"
      ],
      "text/plain": [
       "                           Week Ended May 27, 2020  Change from May 20, 2020  \\\n",
       "Reserve Bank credit                        7059561                    137525   \n",
       "Securities held outright1                  5958725                     86155   \n",
       "U.S. Treasury securities                   4101108                     27033   \n",
       "Bills2                                      326044                         0   \n",
       "Notes and bonds, nominal2                  3481681                     24558   \n",
       "\n",
       "                           Change from May 29, 2020  Wednesday May 27, 2020  \n",
       "Reserve Bank credit                         3239597                 7058713  \n",
       "Securities held outright1                   2279834                 5946969  \n",
       "U.S. Treasury securities                    1986418                 4109512  \n",
       "Bills2                                       325994                  326044  \n",
       "Notes and bonds, nominal2                   1505116                 3489174  "
      ]
     },
     "execution_count": 67,
     "metadata": {},
     "output_type": "execute_result"
    }
   ],
   "source": [
    "df_table1.head()"
   ]
  },
  {
   "cell_type": "code",
   "execution_count": 88,
   "metadata": {},
   "outputs": [
    {
     "data": {
      "text/html": [
       "<div>\n",
       "<style scoped>\n",
       "    .dataframe tbody tr th:only-of-type {\n",
       "        vertical-align: middle;\n",
       "    }\n",
       "\n",
       "    .dataframe tbody tr th {\n",
       "        vertical-align: top;\n",
       "    }\n",
       "\n",
       "    .dataframe thead th {\n",
       "        text-align: right;\n",
       "    }\n",
       "</style>\n",
       "<table border=\"1\" class=\"dataframe\">\n",
       "  <thead>\n",
       "    <tr style=\"text-align: right;\">\n",
       "      <th></th>\n",
       "      <th>Week Ended May 27, 2020</th>\n",
       "      <th>Change from May 20, 2020</th>\n",
       "      <th>Change from May 29, 2020</th>\n",
       "      <th>Wednesday May 27, 2020</th>\n",
       "    </tr>\n",
       "  </thead>\n",
       "  <tbody>\n",
       "    <tr>\n",
       "      <td>Currency in circulation11</td>\n",
       "      <td>1944218</td>\n",
       "      <td>10951</td>\n",
       "      <td>206641</td>\n",
       "      <td>1948196</td>\n",
       "    </tr>\n",
       "    <tr>\n",
       "      <td>Reverse repurchase agreements12</td>\n",
       "      <td>245506</td>\n",
       "      <td>-15342</td>\n",
       "      <td>-21894</td>\n",
       "      <td>243976</td>\n",
       "    </tr>\n",
       "    <tr>\n",
       "      <td>Foreign official and international accounts</td>\n",
       "      <td>244887</td>\n",
       "      <td>-13964</td>\n",
       "      <td>-17870</td>\n",
       "      <td>239650</td>\n",
       "    </tr>\n",
       "    <tr>\n",
       "      <td>Others</td>\n",
       "      <td>619</td>\n",
       "      <td>-1378</td>\n",
       "      <td>-4024</td>\n",
       "      <td>4326</td>\n",
       "    </tr>\n",
       "    <tr>\n",
       "      <td>Treasury cash holdings</td>\n",
       "      <td>239</td>\n",
       "      <td>-34</td>\n",
       "      <td>-31</td>\n",
       "      <td>207</td>\n",
       "    </tr>\n",
       "  </tbody>\n",
       "</table>\n",
       "</div>"
      ],
      "text/plain": [
       "                                             Week Ended May 27, 2020  \\\n",
       "Currency in circulation11                                    1944218   \n",
       "Reverse repurchase agreements12                               245506   \n",
       "Foreign official and international accounts                   244887   \n",
       "Others                                                           619   \n",
       "Treasury cash holdings                                           239   \n",
       "\n",
       "                                             Change from May 20, 2020  \\\n",
       "Currency in circulation11                                       10951   \n",
       "Reverse repurchase agreements12                                -15342   \n",
       "Foreign official and international accounts                    -13964   \n",
       "Others                                                          -1378   \n",
       "Treasury cash holdings                                            -34   \n",
       "\n",
       "                                             Change from May 29, 2020  \\\n",
       "Currency in circulation11                                      206641   \n",
       "Reverse repurchase agreements12                                -21894   \n",
       "Foreign official and international accounts                    -17870   \n",
       "Others                                                          -4024   \n",
       "Treasury cash holdings                                            -31   \n",
       "\n",
       "                                             Wednesday May 27, 2020  \n",
       "Currency in circulation11                                   1948196  \n",
       "Reverse repurchase agreements12                              243976  \n",
       "Foreign official and international accounts                  239650  \n",
       "Others                                                         4326  \n",
       "Treasury cash holdings                                          207  "
      ]
     },
     "execution_count": 88,
     "metadata": {},
     "output_type": "execute_result"
    }
   ],
   "source": [
    "df_table2.head()"
   ]
  },
  {
   "cell_type": "code",
   "execution_count": null,
   "metadata": {},
   "outputs": [],
   "source": []
  }
 ],
 "metadata": {
  "kernelspec": {
   "display_name": "Python 3",
   "language": "python",
   "name": "python3"
  },
  "language_info": {
   "codemirror_mode": {
    "name": "ipython",
    "version": 3
   },
   "file_extension": ".py",
   "mimetype": "text/x-python",
   "name": "python",
   "nbconvert_exporter": "python",
   "pygments_lexer": "ipython3",
   "version": "3.7.4"
  },
  "toc": {
   "base_numbering": 1,
   "nav_menu": {},
   "number_sections": true,
   "sideBar": true,
   "skip_h1_title": false,
   "title_cell": "Table of Contents",
   "title_sidebar": "Contents",
   "toc_cell": false,
   "toc_position": {},
   "toc_section_display": true,
   "toc_window_display": false
  }
 },
 "nbformat": 4,
 "nbformat_minor": 2
}
